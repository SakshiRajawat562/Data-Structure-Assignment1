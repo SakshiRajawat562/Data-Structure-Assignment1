{
 "cells": [
  {
   "cell_type": "code",
   "execution_count": 1,
   "id": "66018dcc-7992-4fbd-9a10-77fd392c65ad",
   "metadata": {},
   "outputs": [
    {
     "name": "stdin",
     "output_type": "stream",
     "text": [
      "How many records do you want to insert?  6\n",
      "Enter Date (DD/MM/YYYY):  06/07/2023\n",
      "Enter City (Delhi/Mumbai/Chennai):  Delhi\n",
      "Enter Temperature (°C):  37\n"
     ]
    },
    {
     "name": "stdout",
     "output_type": "stream",
     "text": [
      " Inserted: 06/07/2023 | Delhi | 37.0°C\n"
     ]
    },
    {
     "name": "stdin",
     "output_type": "stream",
     "text": [
      "Enter Date (DD/MM/YYYY):  09/11/2024\n",
      "Enter City (Delhi/Mumbai/Chennai):  Delhi\n",
      "Enter Temperature (°C):  19\n"
     ]
    },
    {
     "name": "stdout",
     "output_type": "stream",
     "text": [
      " Inserted: 09/11/2024 | Delhi | 19.0°C\n"
     ]
    },
    {
     "name": "stdin",
     "output_type": "stream",
     "text": [
      "Enter Date (DD/MM/YYYY):  04/02/2024\n",
      "Enter City (Delhi/Mumbai/Chennai):  Mumbai\n",
      "Enter Temperature (°C):  23\n"
     ]
    },
    {
     "name": "stdout",
     "output_type": "stream",
     "text": [
      " Inserted: 04/02/2024 | Mumbai | 23.0°C\n"
     ]
    },
    {
     "name": "stdin",
     "output_type": "stream",
     "text": [
      "Enter Date (DD/MM/YYYY):  12/08/2023\n",
      "Enter City (Delhi/Mumbai/Chennai):  Chennai\n",
      "Enter Temperature (°C):  32\n"
     ]
    },
    {
     "name": "stdout",
     "output_type": "stream",
     "text": [
      " Inserted: 12/08/2023 | Chennai | 32.0°C\n"
     ]
    },
    {
     "name": "stdin",
     "output_type": "stream",
     "text": [
      "Enter Date (DD/MM/YYYY):  07/06/2024\n",
      "Enter City (Delhi/Mumbai/Chennai):  Chennai\n",
      "Enter Temperature (°C):  48\n"
     ]
    },
    {
     "name": "stdout",
     "output_type": "stream",
     "text": [
      " Inserted: 07/06/2024 | Chennai | 48.0°C\n"
     ]
    },
    {
     "name": "stdin",
     "output_type": "stream",
     "text": [
      "Enter Date (DD/MM/YYYY):  02/10/2025\n",
      "Enter City (Delhi/Mumbai/Chennai):  Chennai\n",
      "Enter Temperature (°C):  21\n"
     ]
    },
    {
     "name": "stdout",
     "output_type": "stream",
     "text": [
      " Inserted: 02/10/2025 | Chennai | 21.0°C\n",
      "\n",
      "==================================================\n",
      "Date            | City            | Temp      \n",
      "==================================================\n",
      "06/07/2023      | Delhi           | 37.0°C\n",
      "12/08/2023      | Chennai         | 32.0°C\n",
      "09/11/2024      | Delhi           | 19.0°C\n",
      "04/02/2024      | Mumbai          | 23.0°C\n",
      "07/06/2024      | Chennai         | 48.0°C\n",
      "02/10/2025      | Chennai         | 21.0°C\n",
      "==================================================\n",
      "\n",
      " Row-Major Access (Year → Cities):\n",
      "\n",
      "Year 2023:\n",
      "   06/07/2023 | Delhi | 37.0°C\n",
      "   Mumbai: No record\n",
      "   12/08/2023 | Chennai | 32.0°C\n",
      "\n",
      "Year 2024:\n",
      "   09/11/2024 | Delhi | 19.0°C\n",
      "   04/02/2024 | Mumbai | 23.0°C\n",
      "   07/06/2024 | Chennai | 48.0°C\n",
      "\n",
      "Year 2025:\n",
      "   Delhi: No record\n",
      "   Mumbai: No record\n",
      "   02/10/2025 | Chennai | 21.0°C\n",
      "\n",
      " Column-Major Access (City → Years):\n",
      "\n",
      "City Delhi:\n",
      "   06/07/2023 | Delhi | 37.0°C\n",
      "   09/11/2024 | Delhi | 19.0°C\n",
      "   2025: No record\n",
      "\n",
      "City Mumbai:\n",
      "   2023: No record\n",
      "   04/02/2024 | Mumbai | 23.0°C\n",
      "   2025: No record\n",
      "\n",
      "City Chennai:\n",
      "   12/08/2023 | Chennai | 32.0°C\n",
      "   07/06/2024 | Chennai | 48.0°C\n",
      "   02/10/2025 | Chennai | 21.0°C\n",
      "\n",
      " Non-empty Records:\n",
      "06/07/2023 | Delhi | 37.0°C\n",
      "12/08/2023 | Chennai | 32.0°C\n",
      "09/11/2024 | Delhi | 19.0°C\n",
      "04/02/2024 | Mumbai | 23.0°C\n",
      "07/06/2024 | Chennai | 48.0°C\n",
      "02/10/2025 | Chennai | 21.0°C\n",
      "\n",
      " Complexity Analysis:\n",
      "Insert: O(1)\n",
      "Delete: O(k) where k = records in cell\n",
      "Retrieve: O(k)\n",
      "Row/Column Traversal: O(n*m*k)\n",
      "Sparse Data Handling: O(k), where k = number of non-empty records\n"
     ]
    }
   ],
   "source": [
    "import numpy as np\n",
    "\n",
    "# ---------- Weather Record ADT ----------\n",
    "class WeatherRecord:\n",
    "    def __init__(self, day, month, year, city, temperature):\n",
    "        self.day = day\n",
    "        self.month = month\n",
    "        self.year = year\n",
    "        self.city = city\n",
    "        self.temperature = temperature\n",
    "\n",
    "    def __str__(self):\n",
    "        return f\"{self.day:02d}/{self.month:02d}/{self.year} | {self.city} | {self.temperature}°C\"\n",
    "\n",
    "\n",
    "# ---------- Weather Data Storage System ----------\n",
    "class WeatherDataStorage:\n",
    "    def __init__(self, years, cities):\n",
    "        self.years = years\n",
    "        self.cities = cities\n",
    "\n",
    "        # Index mapping\n",
    "        self.year_index = {year: i for i, year in enumerate(years)}\n",
    "        self.city_index = {city: i for i, city in enumerate(cities)}\n",
    "\n",
    "        # Each cell holds a list of records (to allow multiple dates)\n",
    "        self.data = np.empty((len(years), len(cities)), dtype=object)\n",
    "        for i in range(len(years)):\n",
    "            for j in range(len(cities)):\n",
    "                self.data[i][j] = []\n",
    "\n",
    "    # Insert Record\n",
    "    def insert(self, date_str, city, temp):\n",
    "        try:\n",
    "            day, month, year = map(int, date_str.split(\"/\"))\n",
    "        except:\n",
    "            print(\" Invalid date format! Use DD/MM/YYYY\")\n",
    "            return\n",
    "\n",
    "        if year not in self.year_index or city not in self.city_index:\n",
    "            print(\" Invalid year/city!\")\n",
    "            return\n",
    "\n",
    "        record = WeatherRecord(day, month, year, city, temp)\n",
    "        self.data[self.year_index[year]][self.city_index[city]].append(record)\n",
    "        print(f\" Inserted: {record}\")\n",
    "\n",
    "    # Display Table\n",
    "    def displayTable(self):\n",
    "        print(\"\\n\" + \"=\"*50)\n",
    "        print(f\"{'Date':<15} | {'City':<15} | {'Temp':<10}\")\n",
    "        print(\"=\"*50)\n",
    "        for i in range(len(self.years)):\n",
    "            for j in range(len(self.cities)):\n",
    "                for rec in self.data[i][j]:\n",
    "                    date_str = f\"{rec.day:02d}/{rec.month:02d}/{rec.year}\"\n",
    "                    print(f\"{date_str:<15} | {rec.city:<15} | {rec.temperature}°C\")\n",
    "        print(\"=\"*50)\n",
    "\n",
    "    # Row-major Traversal\n",
    "    def rowMajorAccess(self):\n",
    "        print(\"\\n Row-Major Access (Year → Cities):\")\n",
    "        for i, year in enumerate(self.years):\n",
    "            print(f\"\\nYear {year}:\")\n",
    "            for j, city in enumerate(self.cities):\n",
    "                if self.data[i][j]:\n",
    "                    for rec in self.data[i][j]:\n",
    "                        print(f\"   {rec}\")\n",
    "                else:\n",
    "                    print(f\"   {city}: No record\")\n",
    "\n",
    "    # Column-major Traversal\n",
    "    def columnMajorAccess(self):\n",
    "        print(\"\\n Column-Major Access (City → Years):\")\n",
    "        for j, city in enumerate(self.cities):\n",
    "            print(f\"\\nCity {city}:\")\n",
    "            for i, year in enumerate(self.years):\n",
    "                if self.data[i][j]:\n",
    "                    for rec in self.data[i][j]:\n",
    "                        print(f\"   {rec}\")\n",
    "                else:\n",
    "                    print(f\"   {year}: No record\")\n",
    "\n",
    "    # Sparse Data Handling\n",
    "    def handleSparseData(self):\n",
    "        print(\"\\n Non-empty Records:\")\n",
    "        for i in range(len(self.years)):\n",
    "            for j in range(len(self.cities)):\n",
    "                for rec in self.data[i][j]:\n",
    "                    print(rec)\n",
    "\n",
    "    # Complexity Analysis\n",
    "    def analyzeComplexity(self):\n",
    "        print(\"\\n Complexity Analysis:\")\n",
    "        print(\"Insert: O(1)\")\n",
    "        print(\"Delete: O(k) where k = records in cell\")\n",
    "        print(\"Retrieve: O(k)\")\n",
    "        print(\"Row/Column Traversal: O(n*m*k)\")\n",
    "        print(\"Sparse Data Handling: O(k), where k = number of non-empty records\")\n",
    "\n",
    "\n",
    "# ---------- MAIN PROGRAM ----------\n",
    "if __name__ == \"__main__\":\n",
    "    years = [2023, 2024, 2025]\n",
    "    cities = [\"Delhi\", \"Mumbai\", \"Chennai\"]\n",
    "\n",
    "    system = WeatherDataStorage(years, cities)\n",
    "\n",
    "    # Take user input\n",
    "    n = int(input(\"How many records do you want to insert? \"))\n",
    "    for _ in range(n):\n",
    "        date_str = input(\"Enter Date (DD/MM/YYYY): \")\n",
    "        city = input(\"Enter City (Delhi/Mumbai/Chennai): \")\n",
    "        temp = float(input(\"Enter Temperature (°C): \"))\n",
    "        system.insert(date_str, city, temp)\n",
    "\n",
    "    # Display table\n",
    "    system.displayTable()\n",
    "\n",
    "    # Row-major and Column-major\n",
    "    system.rowMajorAccess()\n",
    "    system.columnMajorAccess()\n",
    "\n",
    "    # Sparse handling\n",
    "    system.handleSparseData()\n",
    "\n",
    "    # Complexity\n",
    "    system.analyzeComplexity()"
   ]
  },
  {
   "cell_type": "code",
   "execution_count": null,
   "id": "0c1742c0-8444-4bab-aacb-02dff371230c",
   "metadata": {},
   "outputs": [],
   "source": []
  }
 ],
 "metadata": {
  "kernelspec": {
   "display_name": "Python 3 (ipykernel)",
   "language": "python",
   "name": "python3"
  },
  "language_info": {
   "codemirror_mode": {
    "name": "ipython",
    "version": 3
   },
   "file_extension": ".py",
   "mimetype": "text/x-python",
   "name": "python",
   "nbconvert_exporter": "python",
   "pygments_lexer": "ipython3",
   "version": "3.13.5"
  }
 },
 "nbformat": 4,
 "nbformat_minor": 5
}
